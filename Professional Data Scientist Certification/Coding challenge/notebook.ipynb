{
 "cells": [
  {
   "cell_type": "markdown",
   "metadata": {
    "dc": {
     "key": "4"
    },
    "deletable": false,
    "editable": false,
    "run_control": {
     "frozen": true
    },
    "tags": [
     "context"
    ]
   },
   "source": [
    "## Promoting Tourism in San Francisco\n",
    "<p>San Francisco has been home to many famous films, including the action classic “Bullitt” and the recent science-fiction epic “Rise of the Planet of the Apes”. To celebrate the cinematic history of the city, the tourism board has asked you to perform some analyses.</p>\n",
    "<p>Their idea is to promote the 10 most popular filming locations in San Franciso. The board plans to create an attraction at each of the 10 locations based on the biggest film (by worldwide income) shot there.</p>\n",
    "<p>At your disposal are two datasets. One contains every location and film shot in San Franciso. The other dataset contains movie details drawn from the Internet Movie Database (IMDB). </p>\n",
    "<div style=\"background-color: #efebe4; color: #05192d; text-align:left; vertical-align: middle; padding: 15px 25px 15px 25px; line-height: 1.6;\">\n",
    "    <div style=\"font-size:16px\"><b>datasets/locations.csv - Filming locations of movies shot in San Francisco since 1924</b>\n",
    "    </div>\n",
    "    <div> Source: <a href=\"https://data.sfgov.org/Culture-and-Recreation/Film-Locations-in-San-Francisco/yitu-d5am\">Film Locations in San Francisco</a></div>\n",
    "\n",
    "<ul>\n",
    "    <li><b>Title: </b>Title of the movie. Note that some films may share the same title, and are only differentiated by year of release.</li>\n",
    "    <li><b>Release Year: </b>Year of release in cinemas.</li>\n",
    "    <li><b>Locations: </b>Name of location in San Francisco where a scene was shot for the movie.</li>\n",
    "    <li><b>Production Company: </b>Company that produced the film.</li>\n",
    "    <li><b>Distributor: </b>Company that distributed the film.</li>\n",
    "</ul>\n",
    "    </div>\n",
    "<div style=\"background-color: #efebe4; color: #05192d; text-align:left; vertical-align: middle; padding: 15px 25px 15px 25px; line-height: 1.6; margin-top: 17px;\">\n",
    "    <div style=\"font-size:16px\"><b>datasets/imdb_movies.csv - Data on over 85,000 movies up to 2020</b>\n",
    "    </div>\n",
    "    <div>Source: <a href=\"https://www.kaggle.com/stefanoleone992/imdb-extensive-dataset\">Kaggle (IMDb movies extensive dataset)</a></div>\n",
    "<ul>\n",
    "    <li><b>imdb_title_id: </b>Unique film id.</li>\n",
    "    <li><b>title: </b>Title of the film. Note that some films may share the same title, and are only differentiated by year of release.</li>\n",
    "    <li><b>year: </b>The year of release.</li> \n",
    "    <li><b>genre: </b>The genres of the film. The primary genre of the film is the first genre listed.</li>\n",
    "    <li><b>duration: </b>The duration of the film in minutes.</li>\n",
    "    <li><b>director: </b>The name of the director.</li>\n",
    "    <li><b>actors: </b>The leading actors of the film.</li>\n",
    "    <li><b>avg_vote: </b>Average review given to the film.</li>\n",
    "    <li><b>worldwide_gross_income: </b>Total income for the film worldwide in US dollars.</li>\n",
    "</ul>\n",
    "    </div>"
   ]
  },
  {
   "cell_type": "code",
   "execution_count": 135,
   "metadata": {
    "collapsed": true,
    "dc": {
     "key": "4"
    },
    "tags": [
     "sample_code"
    ]
   },
   "outputs": [],
   "source": [
    "# Use this cell to begin your analysis, and add as many as you would like!\n",
    "import pandas as pd\n",
    "import numpy as np"
   ]
  },
  {
   "cell_type": "code",
   "execution_count": 136,
   "metadata": {
    "collapsed": true,
    "dc": {
     "key": "4"
    }
   },
   "outputs": [],
   "source": [
    "# 1743 entries\n",
    "loc_df=pd.read_csv('datasets/locations.csv')\n",
    "\n",
    "#85854 entries\n",
    "imdb_df=pd.read_csv('datasets/imdb_movies.csv')\n"
   ]
  },
  {
   "cell_type": "code",
   "execution_count": 137,
   "metadata": {
    "collapsed": true,
    "dc": {
     "key": "4"
    }
   },
   "outputs": [],
   "source": [
    "# Count the number of non-duplicates\n",
    "# No duplicates bcuz same number of entries\n",
    "#(~loc_df.duplicated()).sum()\n",
    "#(~imdb_df.duplicated()).sum()\n",
    "\n",
    "# Count the number of entries by the number of distinct combination of title and year\n",
    "#imdb_df['nos'] = imdb_df.groupby(\"title\")['year'].transform(\"nunique\")\n",
    "#print(imdb_df.nos.value_counts())\n",
    "#e.g. there are a total of 10 movie entries for the same title with 9 different years\n",
    "#chk = imdb_df.loc[imdb_df['nos'] == 8]\n",
    "#print(chk.head(20))"
   ]
  },
  {
   "cell_type": "code",
   "execution_count": 138,
   "metadata": {
    "collapsed": true,
    "dc": {
     "key": "4"
    }
   },
   "outputs": [],
   "source": [
    "loc_rank = loc_df['Locations'].value_counts().rename_axis('Locations').reset_index(name='count')\n",
    "loc_rank['loc_rank']=loc_rank['count'].rank(ascending=0,method='dense')\n",
    "#print(loc_rank)\n",
    "\n",
    "loc_df=pd.merge(loc_df,loc_rank,how='left',on=[\"Locations\"])"
   ]
  },
  {
   "cell_type": "code",
   "execution_count": 139,
   "metadata": {
    "dc": {
     "key": "4"
    }
   },
   "outputs": [],
   "source": [
    "loc_df.rename(columns={'Release Year':'Year'},inplace=True)\n",
    "imdb_df.rename(columns={'title':'Title','year':'Year'},inplace=True)\n",
    "\n",
    "#86657\n",
    "all_df=pd.merge(imdb_df,loc_df,how='left',on=[\"Title\",\"Year\"],indicator=True)\n",
    "#all_df.shape\n",
    "\n",
    "#print(all_df.loc[all_df['Title'].isin(['Darling','Ava'])])\n",
    "\n",
    "all_df['currency']=all_df['worldwide_gross_income'].str.split().str[0]\n",
    "all_df['income']=all_df['worldwide_gross_income'].str.split().str[1].astype(float)\n",
    "\n",
    "# print(all_df.currency.value_counts())\n",
    "# $      31614\n",
    "# INR       58\n",
    "# NPR        1\n",
    "# PKR        1\n",
    "# GBP        1\n",
    "#chk=all_df.loc[all_df['currency'].isin(['INR','NPR','PKR','GBP'])]\n",
    "# Zero result\n",
    "#print(chk.Locations.value_counts())\n",
    "\n",
    "all_df['primary']=all_df['genre'].str.split(',').str[0]\n",
    "all_df.loc[(all_df['primary'] == 'Action') | (all_df['primary'] == 'Drama') | (all_df['primary'] == 'Biography'), 'flagprimary'] = 1 \n",
    "all_df.loc[(all_df['primary'] != 'Action') & (all_df['primary'] != 'Drama') & (all_df['primary'] != 'Biography'), 'flagprimary'] = 0\n",
    "\n",
    "all_df.loc[all_df['avg_vote'] <= 6, 'more6'] = 0\n",
    "all_df.loc[all_df['avg_vote'] > 6, 'more6'] = 1\n",
    "\n",
    "#print(all_df.tail())\n",
    "#all_df.info()\n",
    "\n",
    "#print(imdb_df.loc[imdb_df['Title'].isin(['Darling','Ava'])])\n",
    "#print()\n",
    "#print()\n",
    "#print(all_df.loc[all_df['Title'].isin(['Darling','Ava'])])"
   ]
  },
  {
   "cell_type": "code",
   "execution_count": 140,
   "metadata": {
    "dc": {
     "key": "4"
    }
   },
   "outputs": [],
   "source": [
    "all_df.sort_values(['loc_rank', 'income'], ascending=[True, False], inplace=True)\n",
    "#print(all_df.head(15))\n",
    "\n",
    "# Subset moview of only average review higher than 6. \n",
    "# and primary genre is either Action, Drama, or Biography.\n",
    "all_df.loc[(all_df['flagprimary'] == 1) & (all_df['more6'] == 1), 'subset'] = 1\n",
    "subset_df=all_df.loc[all_df['subset'] == 1]\n",
    "#print(subset_df.head(15))\n",
    "\n",
    "final_df=subset_df.groupby('loc_rank',as_index=False).first()\n",
    "#print(final_df.head(15))"
   ]
  },
  {
   "cell_type": "code",
   "execution_count": 141,
   "metadata": {
    "dc": {
     "key": "4"
    }
   },
   "outputs": [],
   "source": [
    "conditions = [\n",
    "    (final_df['loc_rank'] == 1),\n",
    "    (final_df['loc_rank'] == 2),\n",
    "    (final_df['loc_rank'] == 3),\n",
    "    (final_df['loc_rank'] == 4),\n",
    "    (final_df['loc_rank'] == 5),\n",
    "    (final_df['loc_rank'] == 6),\n",
    "    (final_df['loc_rank'] == 7),\n",
    "    (final_df['loc_rank'] == 8),\n",
    "    (final_df['loc_rank'] == 9),\n",
    "    (final_df['loc_rank'] == 10)]\n",
    "choices = ['Most popular location', 'Second most popular location', 'Third most popular location',\n",
    "           'Fourth most popular location', 'Fifth most popular location', 'Sixth most popular location', \n",
    "           'Seventh most popular location', 'Eighth most popular location', 'Nineth most popular location',\n",
    "           'Tenth most popular location']\n",
    "final_df['Popularity'] = np.select(conditions, choices, default='Others')\n",
    "#print(final_df.head(15))"
   ]
  },
  {
   "cell_type": "code",
   "execution_count": 142,
   "metadata": {
    "dc": {
     "key": "4"
    }
   },
   "outputs": [
    {
     "data": {
      "text/plain": [
       "(10, 3)"
      ]
     },
     "execution_count": 142,
     "metadata": {},
     "output_type": "execute_result"
    }
   ],
   "source": [
    "final_df.rename(columns={'Locations':'Location'},inplace=True)\n",
    "sf_hits=final_df[['Location', 'Title','Year']].iloc[0:10,:] \n",
    "sf_hits.shape\n"
   ]
  }
 ],
 "metadata": {
  "celltoolbar": "Raw Cell Format",
  "kernelspec": {
   "display_name": "Python 3 (ipykernel)",
   "language": "python",
   "name": "python3"
  },
  "language_info": {
   "codemirror_mode": {
    "name": "ipython",
    "version": 3
   },
   "file_extension": ".py",
   "mimetype": "text/x-python",
   "name": "python",
   "nbconvert_exporter": "python",
   "pygments_lexer": "ipython3",
   "version": "3.7.11"
  }
 },
 "nbformat": 4,
 "nbformat_minor": 2
}
