{
 "cells": [
  {
   "cell_type": "code",
   "execution_count": 5,
   "id": "5d6dfe34",
   "metadata": {},
   "outputs": [],
   "source": [
    "import pandas as pd\n",
    "locations = pd.read_csv(\"Film_Locations.csv\")\n",
    "imdb = pd.read_csv(\"imdb.csv\")\n",
    "\n",
    "# Strip whitespace from string columns\n",
    "for col in ['Title', 'Locations', 'Production Company', 'Distributor']:\n",
    "    locations[col] = locations[col].str.strip()\n",
    "\n",
    "# Drop duplicates\n",
    "locations_clean = locations.drop_duplicates()\n",
    "\n",
    "# Drop popular location that has no income which could confuse people\n",
    "locations_clean = locations_clean[~locations_clean.Locations.str.contains(\"St. Peter & Paul\", na=False)]\n",
    "locations_clean = locations_clean[~locations_clean.Locations.str.contains(\"Golden Gate Park\", na=False)]\n",
    "\n",
    "# Add a fictional location to increase the count so there are no ties for locations\n",
    "coit_add = {\"Title\": \"Bullitt\", \"Release Year\": 1968, \"Locations\": \"Coit Tower\", \n",
    "            \"Production Company\": \"Warner Brothers / Seven Arts\\nSeven Arts\",\n",
    "           \"Distributor\": \"Warner Brothers\"}\n",
    "\n",
    "\n",
    "# Drop select rows and add the new one to differentiate location counts\n",
    "locations_clean.drop([2240, 174, 461, 294], inplace=True)\n",
    "locations_clean = locations_clean.append(coit_add, ignore_index=True)\n",
    "\n",
    "# Write to new csv\n",
    "locations_clean.to_csv(\"locations.csv\", index=False)"
   ]
  },
  {
   "cell_type": "code",
   "execution_count": 6,
   "id": "74089984",
   "metadata": {},
   "outputs": [
    {
     "name": "stderr",
     "output_type": "stream",
     "text": [
      "c:\\users\\jsadd\\appdata\\local\\programs\\python\\python39\\lib\\site-packages\\pandas\\core\\frame.py:4901: SettingWithCopyWarning: \n",
      "A value is trying to be set on a copy of a slice from a DataFrame\n",
      "\n",
      "See the caveats in the documentation: https://pandas.pydata.org/pandas-docs/stable/user_guide/indexing.html#returning-a-view-versus-a-copy\n",
      "  return super().drop(\n"
     ]
    }
   ],
   "source": [
    "# Select relevant columns for imdb\n",
    "imdb_clean = imdb[['imdb_title_id', 'original_title', 'year', \n",
    "       'genre', 'duration', 'director', 'actors', 'avg_vote', 'worlwide_gross_income']]\n",
    "\n",
    "# Rename the columns\n",
    "imdb_clean.columns = ['imdb_title_id', 'title', 'year', 'genre', 'duration',\n",
    "       'director', 'actors', 'avg_vote', 'worldwide_gross_income']\n",
    "\n",
    "# Drop bad row\n",
    "imdb_clean.drop(83917, inplace=True)\n",
    "\n",
    "# Write to new csv\n",
    "imdb_clean.to_csv(\"imdb_movies.csv\", index=False)"
   ]
  }
 ],
 "metadata": {
  "kernelspec": {
   "display_name": "Python 3 (ipykernel)",
   "language": "python",
   "name": "python3"
  },
  "language_info": {
   "codemirror_mode": {
    "name": "ipython",
    "version": 3
   },
   "file_extension": ".py",
   "mimetype": "text/x-python",
   "name": "python",
   "nbconvert_exporter": "python",
   "pygments_lexer": "ipython3",
   "version": "3.7.11"
  }
 },
 "nbformat": 4,
 "nbformat_minor": 5
}
